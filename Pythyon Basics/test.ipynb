{
 "cells": [
  {
   "cell_type": "code",
   "execution_count": null,
   "metadata": {},
   "outputs": [
    {
     "name": "stdout",
     "output_type": "stream",
     "text": [
      "12\n",
      "78.5\n"
     ]
    }
   ],
   "source": [
    "# Inheritance\n",
    "class Shape:\n",
    "    def area(self):\n",
    "        return \"The area of the figure\"\n",
    "\n",
    "class Rectangle(Shape):\n",
    "    def __init__(self, width, side) -> None:\n",
    "        self.width = width\n",
    "        self.side = side\n",
    "\n",
    "    def area(self) -> int:\n",
    "        return self.side * self.width\n",
    "    \n",
    "class Circle(Shape):\n",
    "    def __init__(self, radius) :\n",
    "        self.radius = radius\n",
    "\n",
    "    def area(self) -> float:\n",
    "        return 3.14 * float(self.radius ** 2)\n",
    "    \n",
    "# Object definition\n",
    "rectange = Rectangle(3,4)\n",
    "circle = Circle(5)\n",
    "print(rectange.area())\n",
    "print(circle.area())"
   ]
  },
  {
   "cell_type": "code",
   "execution_count": 6,
   "metadata": {},
   "outputs": [
    {
     "name": "stdout",
     "output_type": "stream",
     "text": [
      "car engine from abs method.\n"
     ]
    }
   ],
   "source": [
    "## with abstarct class\n",
    "from abc import ABC, abstractmethod\n",
    "\n",
    "class Vehicle:\n",
    "    @abstractmethod\n",
    "    def start_engine():\n",
    "        print(\"this is abstract class.\")\n",
    "\n",
    "class Car(Vehicle):\n",
    "    def engine(self):\n",
    "        print(\"car engine\") \n",
    "    \n",
    "    def __str__(self) -> str:\n",
    "        return \"here is samiran\"  \n",
    "\n",
    "    def start_engine(self):\n",
    "        print(\"car engine from abs method.\") \n",
    "\n",
    "car = Car()  \n",
    "car.start_engine()\n"
   ]
  },
  {
   "cell_type": "code",
   "execution_count": 4,
   "metadata": {},
   "outputs": [
    {
     "data": {
      "text/plain": [
       "['__class__',\n",
       " '__delattr__',\n",
       " '__dict__',\n",
       " '__dir__',\n",
       " '__doc__',\n",
       " '__eq__',\n",
       " '__format__',\n",
       " '__ge__',\n",
       " '__getattribute__',\n",
       " '__getstate__',\n",
       " '__gt__',\n",
       " '__hash__',\n",
       " '__init__',\n",
       " '__init_subclass__',\n",
       " '__le__',\n",
       " '__lt__',\n",
       " '__module__',\n",
       " '__ne__',\n",
       " '__new__',\n",
       " '__reduce__',\n",
       " '__reduce_ex__',\n",
       " '__repr__',\n",
       " '__setattr__',\n",
       " '__sizeof__',\n",
       " '__str__',\n",
       " '__subclasshook__',\n",
       " '__weakref__',\n",
       " 'engine',\n",
       " 'start_engine']"
      ]
     },
     "execution_count": 4,
     "metadata": {},
     "output_type": "execute_result"
    }
   ],
   "source": [
    "dir(car)"
   ]
  },
  {
   "cell_type": "code",
   "execution_count": 10,
   "metadata": {},
   "outputs": [
    {
     "name": "stdout",
     "output_type": "stream",
     "text": [
      "here is samiran\n"
     ]
    }
   ],
   "source": [
    "print(car)"
   ]
  },
  {
   "cell_type": "code",
   "execution_count": null,
   "metadata": {},
   "outputs": [
    {
     "name": "stdout",
     "output_type": "stream",
     "text": [
      "how are you man?\n",
      "Your age is qualify for the exam\n"
     ]
    }
   ],
   "source": [
    "# custom exception\n",
    "class Error(Exception):\n",
    "    pass\n",
    "\n",
    "class dobException(Error):\n",
    "    pass\n",
    "\n",
    "age = int(input(\"Please enter the age\"))\n",
    "\n",
    "try:\n",
    "    if age>=20 and age<=30:\n",
    "        print(\"Your age is qualify for the exam\")\n",
    "    else:\n",
    "        raise Error()\n",
    "except Error:\n",
    "    print(\"Not qualify for the exam!!\")        \n"
   ]
  },
  {
   "cell_type": "code",
   "execution_count": null,
   "metadata": {},
   "outputs": [],
   "source": []
  }
 ],
 "metadata": {
  "kernelspec": {
   "display_name": "venvs",
   "language": "python",
   "name": "python3"
  },
  "language_info": {
   "codemirror_mode": {
    "name": "ipython",
    "version": 3
   },
   "file_extension": ".py",
   "mimetype": "text/x-python",
   "name": "python",
   "nbconvert_exporter": "python",
   "pygments_lexer": "ipython3",
   "version": "3.12.7"
  }
 },
 "nbformat": 4,
 "nbformat_minor": 2
}
